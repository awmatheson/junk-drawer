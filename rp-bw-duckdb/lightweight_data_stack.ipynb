{
 "cells": [
  {
   "cell_type": "markdown",
   "id": "cf6122d8",
   "metadata": {},
   "source": [
    "# Using Web Server Logs to Answer Product and Business Questions \n",
    "## Redpanda + Bytewax + DuckDB\n",
    "\n",
    "Back when I worked at GitHub, we pulled many of our metrics out of a data source we called requests. This was an accumulation of all (or nearly all) of the HTTP requests across the GitHub products. The data originated from logs generated from web servers or in some cases from a load balancer. This data allowed us to determine things like who is using which parts of the product and how they are using the product. It turns out this is a more common source of data than just GitHub. Companies often lack perfect telemetry for their products and in order to get information on what is happening, we can look to the server log data.\n",
    "\n",
    "Most often, the raison d'etre of a data team is to facilitate answers to questions like we had at GitHub. Who is using the product and how are they using it. The root capability required to answer question like we at GitHub had, is the ability to count things reliably and at scale.\n",
    "\n",
    "![quote: the ability to count things reliably and at scale](img/quote.png)\n",
    "\n",
    "What I am going to demonstrate in this tutorial is how you can set up a relatively lightweight data stack that will serve as a platform to answer questions from web server access logs about who is using your product and how they are using it. This Data Stack can run on any cloud, could scale with your business and potentially provide all the capabilities you require, this ain't no toy data stack.\n",
    "\n",
    "The data stack used here as is summarized in the diagram below uses [Redpanda](https://redpanda.com/), [Bytewax](https://www.bytewax.io/) and [DuckDB](https://duckdb.org/). Redpanda serves as the streaming platform, Bytewax as the processing substrate for EL and some T and then duckDB as a serverless query engine for exploration.\n",
    "\n",
    "---------\n",
    "\n",
    "For this tutorial we are using web server access logs sourced from Kaggle and we have sampled the first 1000. You can find the full log file [here](https://www.kaggle.com/datasets/eliasdabbas/web-server-access-logs?resource=download). To start, we are going to run a Redpanda cluster, create a topic and load it with the log data. Then, we will write a dataflow that will parse the logs and store them in s3 (we will actually mock this part with local storage instead). Then we will show you how you can use duckDB to query them."
   ]
  },
  {
   "cell_type": "markdown",
   "id": "30213207",
   "metadata": {},
   "source": [
    "## Redpanda\n",
    "\n",
    "For your production use case, it is recommended that you run Redpanda directly on the machine/vm and not in docker, for this tutorial we are going to run our Redpanda cluster in a docker container for simplicity and easy setup/teardown. Refer to the [Redpanda Documentation](https://docs.redpanda.com/docs/home/) for more in-depth setup and configuration details.\n",
    "\n",
    "```bash\n",
    "docker run -d --pull=always --name=redpanda-1 --rm \\\n",
    "-p 8081:8081 \\\n",
    "-p 8082:8082 \\\n",
    "-p 9092:9092 \\\n",
    "-p 9644:9644 \\\n",
    "docker.redpanda.com/vectorized/redpanda:latest \\\n",
    "redpanda start \\\n",
    "--overprovisioned \\\n",
    "--smp 1  \\\n",
    "--memory 1G \\\n",
    "--reserve-memory 0M \\\n",
    "--node-id 0 \\\n",
    "--check=false\n",
    "```\n",
    "\n",
    "Now that we have our streaming platform set up, let's take a quick look at what the server logs look like before diving into the dataflow code below. "
   ]
  },
  {
   "cell_type": "code",
   "execution_count": 2,
   "id": "69415a85",
   "metadata": {},
   "outputs": [
    {
     "name": "stdout",
     "output_type": "stream",
     "text": [
      "/Users/awmatheson/.zshenv:source:1: no such file or directory: /Users/awmatheson/.cargo/env\r\n",
      "54.36.149.41 - - [22/Jan/2019:03:56:14 +0330] \"GET /filter/27|13%20%D9%85%DA%AF%D8%A7%D9%BE%DB%8C%DA%A9%D8%B3%D9%84,27|%DA%A9%D9%85%D8%AA%D8%B1%20%D8%A7%D8%B2%205%20%D9%85%DA%AF%D8%A7%D9%BE%DB%8C%DA%A9%D8%B3%D9%84,p53 HTTP/1.1\" 200 30577 \"-\" \"Mozilla/5.0 (compatible; AhrefsBot/6.1; +http://ahrefs.com/robot/)\" \"-\"\r\n",
      "31.56.96.51 - - [22/Jan/2019:03:56:16 +0330] \"GET /image/60844/productModel/200x200 HTTP/1.1\" 200 5667 \"https://www.zanbil.ir/m/filter/b113\" \"Mozilla/5.0 (Linux; Android 6.0; ALE-L21 Build/HuaweiALE-L21) AppleWebKit/537.36 (KHTML, like Gecko) Chrome/66.0.3359.158 Mobile Safari/537.36\" \"-\"\r\n",
      "31.56.96.51 - - [22/Jan/2019:03:56:16 +0330] \"GET /image/61474/productModel/200x200 HTTP/1.1\" 200 5379 \"https://www.zanbil.ir/m/filter/b113\" \"Mozilla/5.0 (Linux; Android 6.0; ALE-L21 Build/HuaweiALE-L21) AppleWebKit/537.36 (KHTML, like Gecko) Chrome/66.0.3359.158 Mobile Safari/537.36\" \"-\"\r\n",
      "40.77.167.129 - - [22/Jan/2019:03:56:17 +0330] \"GET /image/14925/productModel/100x100 HTTP/1.1\" 200 1696 \"-\" \"Mozilla/5.0 (compatible; bingbot/2.0; +http://www.bing.com/bingbot.htm)\" \"-\"\r\n",
      "91.99.72.15 - - [22/Jan/2019:03:56:17 +0330] \"GET /product/31893/62100/%D8%B3%D8%B4%D9%88%D8%A7%D8%B1-%D8%AE%D8%A7%D9%86%DA%AF%DB%8C-%D9%BE%D8%B1%D9%86%D8%B3%D9%84%DB%8C-%D9%85%D8%AF%D9%84-PR257AT HTTP/1.1\" 200 41483 \"-\" \"Mozilla/5.0 (Windows NT 6.2; Win64; x64; rv:16.0)Gecko/16.0 Firefox/16.0\" \"-\"\r\n",
      "40.77.167.129 - - [22/Jan/2019:03:56:17 +0330] \"GET /image/23488/productModel/150x150 HTTP/1.1\" 200 2654 \"-\" \"Mozilla/5.0 (compatible; bingbot/2.0; +http://www.bing.com/bingbot.htm)\" \"-\"\r\n",
      "40.77.167.129 - - [22/Jan/2019:03:56:18 +0330] \"GET /image/45437/productModel/150x150 HTTP/1.1\" 200 3688 \"-\" \"Mozilla/5.0 (compatible; bingbot/2.0; +http://www.bing.com/bingbot.htm)\" \"-\"\r\n",
      "40.77.167.129 - - [22/Jan/2019:03:56:18 +0330] \"GET /image/576/article/100x100 HTTP/1.1\" 200 14776 \"-\" \"Mozilla/5.0 (compatible; bingbot/2.0; +http://www.bing.com/bingbot.htm)\" \"-\"\r\n",
      "66.249.66.194 - - [22/Jan/2019:03:56:18 +0330] \"GET /filter/b41,b665,c150%7C%D8%A8%D8%AE%D8%A7%D8%B1%D9%BE%D8%B2,p56 HTTP/1.1\" 200 34277 \"-\" \"Mozilla/5.0 (compatible; Googlebot/2.1; +http://www.google.com/bot.html)\" \"-\"\r\n",
      "40.77.167.129 - - [22/Jan/2019:03:56:18 +0330] \"GET /image/57710/productModel/100x100 HTTP/1.1\" 200 1695 \"-\" \"Mozilla/5.0 (compatible; bingbot/2.0; +http://www.bing.com/bingbot.htm)\" \"-\"\r\n"
     ]
    }
   ],
   "source": [
    "!head input_data/first1000.log"
   ]
  },
  {
   "cell_type": "markdown",
   "id": "dbe44757",
   "metadata": {},
   "source": [
    "These look pretty standard. We have the IP address, the GET request, referrer, user agent, status code and more. We can probably get some pretty interesting answers from this data like where requests are made from and by who. In the dataflow we will seek to convert these log lines into something useable.\n",
    "\n",
    "Our dataflow will take the raw logs as an input from Redpanda, enrich them, parse them, and then write them to a file store in a columnar format (parquet). We are doing some minor enrichment directly in the dataflow, in practice, this may be prohibitive depending on your scale and requirements.\n",
    "\n",
    "_If you are doing ip <-> geolocation enrichment as we are in this tutorial, I would recommend using the python package geoip2 with a database to decrease the latency._\n",
    "\n",
    "Let's walk through the dataflow. If you are following along, the code for the dataflow explained below is in the main [GitHub repo](https://github.com/awmatheson/junk-drawer/tree/main/rp-bw-duckdb) as `dataflow.py`."
   ]
  },
  {
   "cell_type": "markdown",
   "id": "d70a8007",
   "metadata": {},
   "source": [
    "## Dataflow\n",
    "\n",
    "There are 3 parts to the dataflow.\n",
    "\n",
    "- **Input**\n",
    "- **Parsing & Enrichment**\n",
    "- **Output.**\n",
    "\n",
    "![diagram of 3 parts](img/dataflow_lds.png)\n",
    "\n",
    "The code to describe the dataflow is the following:\n",
    "\n",
    "```python\n",
    "flow = Dataflow()\n",
    "flow.input(\"inp\", kafka_input)\n",
    "flow.map(modify_key)\n",
    "flow.map(enrichment)\n",
    "flow.reduce_window(\"accumulate_logs\", cc, wc, accumulate_logs)\n",
    "flow.map(parse_logs)\n",
    "flow.inspect(print)\n",
    "flow.capture(ManualOutputConfig(output_builder))\n",
    "```\n",
    "\n",
    "and to call the data flow we will run\n",
    "\n",
    "```python\n",
    "if __name__ == \"__main__\":\n",
    "    cluster_main(flow, [], 0)\n",
    "```\n"
   ]
  },
  {
   "cell_type": "markdown",
   "id": "7a995327",
   "metadata": {},
   "source": [
    "### Input - Ingesting and recovery from Kafka\n",
    "\n",
    "You'll notice at the top of our flow above, we have `flow.input(\"inp\", kafka_input)`. The [`dataflow.input()`](https://docs.bytewax.io/apidocs/bytewax.dataflow#bytewax.dataflow.Dataflow.input) method is what is used to set our input configurations. In our dataflow, kafka_input is a variable that represents a handy Bytewax Kafka input mechanism called `KafkaInputConfig` that handles the nitty gritty code for a kafka consumer. There is also a recovery mechanism called [`KafkaRecoveryConfig`](https://docs.bytewax.io/apidocs/bytewax.recovery) that will use kafa API compatible services like Redpanda as the recovery store so in the case that our dataflow fails, we will resume from the latest offset with the state recovered. We won't use recovery in this particular example.\n",
    "\n",
    "```python\n",
    "kafka_input = KafkaInputConfig(\n",
    "        brokers=[KAFKA_BROKERS],\n",
    "        topic=KAFKA_TOPIC,\n",
    "        tail=False\n",
    "    )\n",
    "```\n",
    "\n",
    "The variables used in the configuration were set as environment variables in the dataflow as below.\n",
    "\n",
    "```python\n",
    "KAFKA_BROKERS = os.getenv(\"KAFKA_BROKERS\", \"localhost:9092\")\n",
    "KAFKA_TOPIC = os.getenv(\"KAFKA_TOPIC\", \"requests\")\n",
    "```\n",
    "\n",
    "The variables available to the KafkaInputConfig can be seen in detail in [the documentation](https://docs.bytewax.io/apidocs/bytewax.inputs#bytewax.inputs.KafkaInputConfig). We are listening on the requests topic, with our offset starting at the earliest available and we will not tail the data, we will exit upon completion. In 0.12.0 and above you can also specify additional configuration parameters that will match those in librdkafka, the client used underneath.\n",
    "\n",
    "\n",
    "With our input configured, we can write the rest of the dataflow."
   ]
  },
  {
   "cell_type": "markdown",
   "id": "3e88f19f",
   "metadata": {},
   "source": [
    "### Parsing & Enrichment - Turning Logs into Data\n",
    "\n",
    "For the bulk of the dataflow we are going to:\n",
    "1. `modify_key` - Modify the initial payload for aggregation. Nothing much going on here for this example.\n",
    "2. `enrichment`<br>\n",
    "  a. Reformat the log string to more easily parse them including malformated requests, additional quote characters and date strings.<br>\n",
    "  b. Get the IP address from the log string and make a request to ipapi for the geolocation.\n",
    "  \n",
    "3. `accumulate_logs` - Accumulate a batch of logs\n",
    "4. `parse_logs` - Parse the logs into a columnar table format for writing\n",
    "\n",
    "Since we are using a single worker and we are not concerned with parallelization in this example, we will ignore the `modify_key` step. The explanation for this step is that when we accumulate data, we would do it on a key and this first step would be used to pull out the key and put it as the first item in a tuple format for the accumulate step. \n",
    "\n",
    "_Our logs are byte strings and we will keep them in that format until we parse them. This will allow us to leverage pyarrow's csv_reader which will limit the need for us to write any funky regex._"
   ]
  },
  {
   "cell_type": "markdown",
   "id": "33ebc498",
   "metadata": {},
   "source": [
    "#### Part 1 - Modify Key\n",
    "\n",
    "As mentioned, we won't be doing much here since we are not concerned with parallelization. We are simply reformatting our payload to be in the correct format for the downstream stateful operator, `reduce_window`.\n",
    "\n",
    "```python\n",
    "def modify_key(data):\n",
    "    key, log = data\n",
    "    return ('', log)\n",
    "```"
   ]
  },
  {
   "cell_type": "markdown",
   "id": "219d2075",
   "metadata": {},
   "source": [
    "#### Part 2 - IP <-> Geolocation\n",
    "\n",
    "We are using a free service called ipapi that will return a geolocation from an ip for free. This requires us to make a http request and I would not recommend this for your production service because of latency and an increased chance of errors, but rather it would be better to use a ip <-> geolocation database service like [max mind](https://github.com/maxmind/GeoIP2-python). \n",
    "\n",
    "In the code below, we are also doing a touch of formatting that will allow us to easily parse the date. \n",
    "\n",
    "```python\n",
    "def enrichment(data):\n",
    "    '''\n",
    "    Function that:\n",
    "      - modifies the log string for datetime parsing\n",
    "      - makes an ip lookup from ipapi\n",
    "      - reformats log string to include country, region and city\n",
    "    '''\n",
    "    key, log = data\n",
    "    log = log.decode()\n",
    "    log = log.replace(\"|\", \"%7C\") # fix requests using forbidden chars that aren't encoded\n",
    "    # modify quote character to pipe to overcome quote character in logs\n",
    "    log = log.replace(\" [\",\" |\").replace(\"] \",\"| \").replace(' \"', ' |').replace('\" ', '| ')[:-2] + '|' # to parse datetime\n",
    "    ip_address = log.split()[0]\n",
    "    response = requests.get(f'https://ipapi.co/{ip_address}/json/')\n",
    "    response_json = response.json()\n",
    "    if response_json.get('error'):\n",
    "        city, region, country = \"-\", \"-\", \"-\"\n",
    "    else:\n",
    "        city, region, country = response_json.get(\"city\"), response_json.get(\"region\"), response_json.get(\"country_name\")\n",
    "    location_data = '|' + '| |'.join([city, region, country]) + '|'\n",
    "    return (key, b\" \".join([location_data.encode(), log.encode()]))\n",
    "```"
   ]
  },
  {
   "cell_type": "markdown",
   "id": "58b00485",
   "metadata": {},
   "source": [
    "#### Part 3 - Accumulate Logs\n",
    "\n",
    "This step in the dataflow is unique that it will use a stateful operator, [`reduce_window`](https://docs.bytewax.io/apidocs/bytewax.dataflow#bytewax.dataflow.Dataflow.reduce_window). That will aggregate values for a key based on a function given. `reduce_window` requires a clock configuration and a window configuration that will be used as the basis for aggregation.  \n",
    "\n",
    "```python\n",
    "cc = SystemClockConfig()\n",
    "wc = TumblingWindowConfig(length=datetime.timedelta(seconds=5))\n",
    "\n",
    "flow.reduce_window(\"accumulate_logs\", cc, wc, accumulate_logs)\n",
    "```\n",
    "\n",
    "The reduce_window operator will receive a state step id (used for recovery), a clock config, a window config and a function that will be called with each new datum. The data should be in the shape (key, value) where the key is used to route data to the correct worker. For our data flow that would look like, `('', log)`. The code for accumulate_logs is below. We are simply concatenating byte strings with a newline separation. This will allow us to parse them with the helpful pyarrow csv_reader.\n",
    "\n",
    "```python\n",
    "def accumulate_logs(logs, log):\n",
    "    return logs + '\\n'.encode() + log\n",
    "```"
   ]
  },
  {
   "cell_type": "markdown",
   "id": "db1da75d",
   "metadata": {},
   "source": [
    "#### Part 3 - Parse Logs\n",
    "\n",
    "Here we use the pyarrow csv_reader to parse out the line separated, space delimited, byte string file object into a pyarrow table with the columns listed below. The table object returned is what we will use to write the files into parquet files with the correct metadata and partitioning.\n",
    "\n",
    "```python\n",
    "def parse_logs(epoch__logs):\n",
    "    '''\n",
    "    Function that uses pyarrow to parse logs \n",
    "    and create a datetime partitioned pyarrow table\n",
    "    '''\n",
    "    epoch, logs = epoch__logs\n",
    "    logs = BytesIO(logs)\n",
    "    parse_options = csv.ParseOptions(delimiter=\" \", invalid_row_handler=skip_log, quote_char=\"|\")\n",
    "    read_options = csv.ReadOptions(\n",
    "        column_names=[\"city\", \"region\", \"country\", \"ip\", \"1-\", \"2-\", \"event_time\", \"request_url\",\n",
    "        \"status_code\", \"3-\", \"request_referrer\", \"user_agent\", \"4-\"])\n",
    "    table = csv.read_csv(logs, parse_options=parse_options, read_options=read_options)\n",
    "    event_time = table[\"event_time\"].to_pylist()\n",
    "    table = table.append_column(\"year\", [[datetime.datetime.strptime(x, '%d/%b/%Y:%H:%M:%S %z').year for x in event_time]])\n",
    "    table = table.append_column(\"month\", [[datetime.datetime.strptime(x, '%d/%b/%Y:%H:%M:%S %z').month for x in event_time]])\n",
    "    table = table.append_column(\"day\", [[datetime.datetime.strptime(x, '%d/%b/%Y:%H:%M:%S %z').day for x in event_time]])\n",
    "    table = table.append_column(\"hr\", [[datetime.datetime.strptime(x, '%d/%b/%Y:%H:%M:%S %z').hour for x in event_time]])\n",
    "    return table\n",
    "```\n",
    "\n",
    "Now that we have returned the output table we can capture the data to a sink. "
   ]
  },
  {
   "cell_type": "markdown",
   "id": "2142ddfb",
   "metadata": {},
   "source": [
    "### Output - Capturing the Data\n",
    "\n",
    "In the final step `flow.capture(ManualOutputConfig(output_builder))`, we are capturing the output using a custom output builder in the [`ManualOutputConfig`](https://docs.bytewax.io/apidocs/bytewax.outputs#bytewax.outputs.ManualOutputConfig). In our output builder we are using pyarrow once more. In this example, we are using a filestore, but you could easily modify this to use the other available storage options from pyarrow (S3 and Azure Blob at this time). The output builder should be something parallelizable if you are looking to scale up the number of workers/processes. Whichever client you use should be able to make concurrent writes in this case.\n",
    "\n",
    "```python\n",
    "def output_builder(worker_index, worker_count):\n",
    "    return write_to_fs\n",
    "\n",
    "\n",
    "def write_to_fs(epoch__table):\n",
    "    '''\n",
    "    create a filesystem object with pyarrow fs\n",
    "    write pyarrow table as parquet to filesystem\n",
    "    '''\n",
    "    epoch, table = epoch__table\n",
    "    local = fs.LocalFileSystem()\n",
    "    ds.write_dataset(\n",
    "        table,\n",
    "        format='parquet',\n",
    "        base_dir=ROOT_FOLDER,\n",
    "        partitioning=[\"year\", \"month\", \"day\", \"hr\"],\n",
    "        filesystem=local,\n",
    "        existing_data_behavior='overwrite_or_ignore',\n",
    "        basename_template = \"part-{i}-\" + uuid.uuid4().hex + \".parquet\"\n",
    "    )\n",
    "```"
   ]
  },
  {
   "cell_type": "markdown",
   "id": "d17d7418",
   "metadata": {},
   "source": [
    "## Running the dataflow and Ingesting Data\n",
    "\n",
    "_Before running the code below, you may need to install some dependencies from the requirements.txt file and restart the kernel if you have not already done so._\n",
    "\n",
    "```python\n",
    "pip install -r requirements.txt\n",
    "```\n",
    "\n",
    "Once your environment is configure, let's create the Redpanda Topic that we will be listening to with out dataflow by running the code in the cell below."
   ]
  },
  {
   "cell_type": "code",
   "execution_count": 5,
   "id": "6c131353",
   "metadata": {},
   "outputs": [
    {
     "name": "stdout",
     "output_type": "stream",
     "text": [
      "input topic requests created successfully\n"
     ]
    }
   ],
   "source": [
    "from kafka import KafkaProducer\n",
    "from kafka.admin import KafkaAdminClient, NewTopic\n",
    "from kafka.errors import KafkaError\n",
    "from time import sleep\n",
    "\n",
    "input_topic_name = \"requests\"\n",
    "localhost_bootstrap_server = \"localhost:9092\"\n",
    "producer = KafkaProducer(bootstrap_servers=[localhost_bootstrap_server])\n",
    "admin = KafkaAdminClient(bootstrap_servers=[localhost_bootstrap_server])\n",
    "\n",
    "# Create input topic\n",
    "try:\n",
    "    input_topic = NewTopic(input_topic_name, num_partitions=1, replication_factor=1)\n",
    "    admin.create_topics([input_topic])\n",
    "    print(f\"input topic {input_topic_name} created successfully\")\n",
    "except:\n",
    "    print(f\"Topic {input_topic_name} already exists\")"
   ]
  },
  {
   "cell_type": "markdown",
   "id": "f5732224",
   "metadata": {},
   "source": [
    "Now we can run the dataflow in a terminal on your local machine. Because we have set `tail = False` in our dataflow, this may exit before you get a chance to run the cell below. In that case, just start the cell below and then run the dataflow.\n",
    "\n",
    "```bash\n",
    "python dataflow.py\n",
    "```\n",
    "\n",
    "You may see some messages from our dataflow waiting for new data in the Redpanda topic.\n",
    "\n",
    "Now we can simulate logging some data for downstream consumption. If you've cloned this notebook locally, you can run the cell below directly from the notebook. \n"
   ]
  },
  {
   "cell_type": "code",
   "execution_count": 6,
   "id": "79c817e9",
   "metadata": {},
   "outputs": [
    {
     "name": "stdout",
     "output_type": "stream",
     "text": [
      "input topic requests populated successfully\n"
     ]
    }
   ],
   "source": [
    "# Add data to input topic\n",
    "try:\n",
    "    for line in open(\"input_data/first1000.log\"):\n",
    "        producer.send(input_topic_name, value=line.encode())\n",
    "        sleep(0.05)\n",
    "    print(f\"input topic {input_topic_name} populated successfully\")\n",
    "except KafkaError:\n",
    "    print(\"An error occurred\")"
   ]
  },
  {
   "cell_type": "markdown",
   "id": "1f8009a9",
   "metadata": {},
   "source": [
    "## Analysis and Insights\n",
    "\n",
    "Assuming you have already run the dataflow, you should have some data stored in the `data` directory on your machine. \n",
    "\n",
    "Now let's get some insights!\n",
    "\n",
    "We are going to use duckdb, a newer, open source query engine that can quickly query across columnar formats like parquet from our local laptop with very little configuration and no additional infra. "
   ]
  },
  {
   "cell_type": "code",
   "execution_count": 7,
   "id": "87228c98",
   "metadata": {},
   "outputs": [],
   "source": [
    "import duckdb\n",
    "import pandas as pd"
   ]
  },
  {
   "cell_type": "markdown",
   "id": "bb02f114",
   "metadata": {},
   "source": [
    "As an example, we could try and determine the most common locations that our users use our products from."
   ]
  },
  {
   "cell_type": "code",
   "execution_count": 8,
   "id": "6264af78",
   "metadata": {},
   "outputs": [
    {
     "data": {
      "text/plain": [
       "<AxesSubplot:xlabel='country'>"
      ]
     },
     "execution_count": 8,
     "metadata": {},
     "output_type": "execute_result"
    },
    {
     "data": {
      "image/png": "[encoded data removed]",
      "text/plain": [
       "<Figure size 432x288 with 1 Axes>"
      ]
     },
     "metadata": {
      "needs_background": "light"
     },
     "output_type": "display_data"
    }
   ],
   "source": [
    "location_data = duckdb.query('''SELECT \n",
    "country, \n",
    "count(*) \n",
    "FROM 'data/2019/1/22/*/*.parquet' \n",
    "GROUP BY country\n",
    "ORDER BY 2 desc''').df()\n",
    "location_data.set_index('country', inplace=True)\n",
    "location_data.plot.bar()"
   ]
  },
  {
   "cell_type": "markdown",
   "id": "0e8af7d9",
   "metadata": {},
   "source": [
    "Or we could look at the status codes we've received across our data range."
   ]
  },
  {
   "cell_type": "code",
   "execution_count": 9,
   "id": "e27f1595",
   "metadata": {},
   "outputs": [
    {
     "data": {
      "text/plain": [
       "<AxesSubplot:xlabel='status_code'>"
      ]
     },
     "execution_count": 9,
     "metadata": {},
     "output_type": "execute_result"
    },
    {
     "data": {
      "image/png": "[encoded data removed]",
      "text/plain": [
       "<Figure size 432x288 with 1 Axes>"
      ]
     },
     "metadata": {
      "needs_background": "light"
     },
     "output_type": "display_data"
    }
   ],
   "source": [
    "status_codes = duckdb.query('''SELECT \n",
    "status_code,\n",
    "count(*) as count\n",
    "FROM 'data/2019/1/22/*/*.parquet'\n",
    "GROUP BY status_code\n",
    "ORDER BY count desc\n",
    "''').df()\n",
    "status_codes.set_index('status_code', inplace=True)\n",
    "status_codes.plot.bar()"
   ]
  },
  {
   "cell_type": "markdown",
   "id": "45628e09",
   "metadata": {},
   "source": [
    "And then isolate the ip address for each of the status codes that was not a 200 request to see if there are a common offenders."
   ]
  },
  {
   "cell_type": "code",
   "execution_count": 10,
   "id": "1387a3b7",
   "metadata": {},
   "outputs": [
    {
     "data": {
      "text/html": [
       "<div>\n",
       "<style scoped>\n",
       "    .dataframe tbody tr th:only-of-type {\n",
       "        vertical-align: middle;\n",
       "    }\n",
       "\n",
       "    .dataframe tbody tr th {\n",
       "        vertical-align: top;\n",
       "    }\n",
       "\n",
       "    .dataframe thead th {\n",
       "        text-align: right;\n",
       "    }\n",
       "</style>\n",
       "<table border=\"1\" class=\"dataframe\">\n",
       "  <thead>\n",
       "    <tr style=\"text-align: right;\">\n",
       "      <th></th>\n",
       "      <th>status_code</th>\n",
       "      <th>ip</th>\n",
       "      <th>count</th>\n",
       "    </tr>\n",
       "  </thead>\n",
       "  <tbody>\n",
       "    <tr>\n",
       "      <th>0</th>\n",
       "      <td>404</td>\n",
       "      <td>66.249.66.194</td>\n",
       "      <td>1</td>\n",
       "    </tr>\n",
       "    <tr>\n",
       "      <th>1</th>\n",
       "      <td>404</td>\n",
       "      <td>5.211.97.39</td>\n",
       "      <td>1</td>\n",
       "    </tr>\n",
       "    <tr>\n",
       "      <th>2</th>\n",
       "      <td>302</td>\n",
       "      <td>54.36.148.87</td>\n",
       "      <td>1</td>\n",
       "    </tr>\n",
       "    <tr>\n",
       "      <th>3</th>\n",
       "      <td>404</td>\n",
       "      <td>207.46.13.136</td>\n",
       "      <td>1</td>\n",
       "    </tr>\n",
       "  </tbody>\n",
       "</table>\n",
       "</div>"
      ],
      "text/plain": [
       "   status_code             ip  count\n",
       "0          404  66.249.66.194      1\n",
       "1          404    5.211.97.39      1\n",
       "2          302   54.36.148.87      1\n",
       "3          404  207.46.13.136      1"
      ]
     },
     "execution_count": 10,
     "metadata": {},
     "output_type": "execute_result"
    }
   ],
   "source": [
    "non_200 = duckdb.query('''SELECT \n",
    "status_code,\n",
    "ip,\n",
    "count(*) as count\n",
    "FROM 'data/2019/1/22/*/*.parquet'\n",
    "WHERE status_code != 200\n",
    "GROUP BY status_code, ip\n",
    "ORDER BY count desc\n",
    "''').df()\n",
    "non_200"
   ]
  },
  {
   "cell_type": "code",
   "execution_count": 11,
   "id": "60b25ad1",
   "metadata": {},
   "outputs": [
    {
     "data": {
      "text/html": [
       "<div>\n",
       "<style scoped>\n",
       "    .dataframe tbody tr th:only-of-type {\n",
       "        vertical-align: middle;\n",
       "    }\n",
       "\n",
       "    .dataframe tbody tr th {\n",
       "        vertical-align: top;\n",
       "    }\n",
       "\n",
       "    .dataframe thead th {\n",
       "        text-align: right;\n",
       "    }\n",
       "</style>\n",
       "<table border=\"1\" class=\"dataframe\">\n",
       "  <thead>\n",
       "    <tr style=\"text-align: right;\">\n",
       "      <th></th>\n",
       "      <th>city</th>\n",
       "      <th>region</th>\n",
       "      <th>country</th>\n",
       "      <th>ip</th>\n",
       "      <th>1-</th>\n",
       "      <th>2-</th>\n",
       "      <th>event_time</th>\n",
       "      <th>request_url</th>\n",
       "      <th>status_code</th>\n",
       "      <th>3-</th>\n",
       "      <th>request_referrer</th>\n",
       "      <th>user_agent</th>\n",
       "      <th>4-</th>\n",
       "    </tr>\n",
       "  </thead>\n",
       "  <tbody>\n",
       "    <tr>\n",
       "      <th>0</th>\n",
       "      <td>Ashburn</td>\n",
       "      <td>Virginia</td>\n",
       "      <td>United States</td>\n",
       "      <td>66.249.66.194</td>\n",
       "      <td>-</td>\n",
       "      <td>-</td>\n",
       "      <td>22/Jan/2019:03:56:23 +0330</td>\n",
       "      <td>GET /product/81900 HTTP/1.1</td>\n",
       "      <td>404</td>\n",
       "      <td>32278</td>\n",
       "      <td>-</td>\n",
       "      <td>Mozilla/5.0 (compatible; Googlebot/2.1; +http:...</td>\n",
       "      <td>-</td>\n",
       "    </tr>\n",
       "    <tr>\n",
       "      <th>1</th>\n",
       "      <td>Tehran</td>\n",
       "      <td>Tehran</td>\n",
       "      <td>Iran</td>\n",
       "      <td>5.211.97.39</td>\n",
       "      <td>-</td>\n",
       "      <td>-</td>\n",
       "      <td>22/Jan/2019:03:56:31 +0330</td>\n",
       "      <td>HEAD /amp_preconnect_polyfill_404_or_other_err...</td>\n",
       "      <td>404</td>\n",
       "      <td>0</td>\n",
       "      <td>https://www.zanbil.ir/m/browse/cooking-tools/%...</td>\n",
       "      <td>Mozilla/5.0 (iPhone; CPU iPhone OS 10_3_2 like...</td>\n",
       "      <td>-</td>\n",
       "    </tr>\n",
       "    <tr>\n",
       "      <th>2</th>\n",
       "      <td>-</td>\n",
       "      <td>-</td>\n",
       "      <td>-</td>\n",
       "      <td>54.36.148.87</td>\n",
       "      <td>-</td>\n",
       "      <td>-</td>\n",
       "      <td>22/Jan/2019:03:56:34 +0330</td>\n",
       "      <td>GET /filter/p65%2Cv1%7C%D9%86%D9%82%D8%B1%D9%8...</td>\n",
       "      <td>302</td>\n",
       "      <td>0</td>\n",
       "      <td>-</td>\n",
       "      <td>Mozilla/5.0 (compatible; AhrefsBot/6.1; +http:...</td>\n",
       "      <td>-</td>\n",
       "    </tr>\n",
       "    <tr>\n",
       "      <th>3</th>\n",
       "      <td>Quincy</td>\n",
       "      <td>Washington</td>\n",
       "      <td>United States</td>\n",
       "      <td>207.46.13.136</td>\n",
       "      <td>-</td>\n",
       "      <td>-</td>\n",
       "      <td>22/Jan/2019:03:56:19 +0330</td>\n",
       "      <td>GET /product/14926 HTTP/1.1</td>\n",
       "      <td>404</td>\n",
       "      <td>33617</td>\n",
       "      <td>-</td>\n",
       "      <td>Mozilla/5.0 (compatible; bingbot/2.0; +http://...</td>\n",
       "      <td>-</td>\n",
       "    </tr>\n",
       "  </tbody>\n",
       "</table>\n",
       "</div>"
      ],
      "text/plain": [
       "      city      region        country             ip 1- 2-  \\\n",
       "0  Ashburn    Virginia  United States  66.249.66.194  -  -   \n",
       "1   Tehran      Tehran           Iran    5.211.97.39  -  -   \n",
       "2        -           -              -   54.36.148.87  -  -   \n",
       "3   Quincy  Washington  United States  207.46.13.136  -  -   \n",
       "\n",
       "                   event_time  \\\n",
       "0  22/Jan/2019:03:56:23 +0330   \n",
       "1  22/Jan/2019:03:56:31 +0330   \n",
       "2  22/Jan/2019:03:56:34 +0330   \n",
       "3  22/Jan/2019:03:56:19 +0330   \n",
       "\n",
       "                                         request_url  status_code     3-  \\\n",
       "0                        GET /product/81900 HTTP/1.1          404  32278   \n",
       "1  HEAD /amp_preconnect_polyfill_404_or_other_err...          404      0   \n",
       "2  GET /filter/p65%2Cv1%7C%D9%86%D9%82%D8%B1%D9%8...          302      0   \n",
       "3                        GET /product/14926 HTTP/1.1          404  33617   \n",
       "\n",
       "                                    request_referrer  \\\n",
       "0                                                  -   \n",
       "1  https://www.zanbil.ir/m/browse/cooking-tools/%...   \n",
       "2                                                  -   \n",
       "3                                                  -   \n",
       "\n",
       "                                          user_agent 4-  \n",
       "0  Mozilla/5.0 (compatible; Googlebot/2.1; +http:...  -  \n",
       "1  Mozilla/5.0 (iPhone; CPU iPhone OS 10_3_2 like...  -  \n",
       "2  Mozilla/5.0 (compatible; AhrefsBot/6.1; +http:...  -  \n",
       "3  Mozilla/5.0 (compatible; bingbot/2.0; +http://...  -  "
      ]
     },
     "execution_count": 11,
     "metadata": {},
     "output_type": "execute_result"
    }
   ],
   "source": [
    "non_200_raw = duckdb.query('''SELECT \n",
    "*\n",
    "FROM 'data/2019/1/22/*/*.parquet'\n",
    "WHERE status_code != 200\n",
    "''').df()\n",
    "non_200_raw"
   ]
  },
  {
   "cell_type": "markdown",
   "id": "7caa0537",
   "metadata": {},
   "source": [
    "That is interesting. Let's look at who those might be?"
   ]
  },
  {
   "cell_type": "code",
   "execution_count": 14,
   "id": "88f592a3",
   "metadata": {},
   "outputs": [
    {
     "name": "stdout",
     "output_type": "stream",
     "text": [
      "GOOGLE, US\n",
      "MCCI-AS, IR\n",
      "OVH, FR\n",
      "MICROSOFT-CORP-MSN-AS-BLOCK, US\n"
     ]
    }
   ],
   "source": [
    "from ipwhois import IPWhois\n",
    "from pprint import pprint\n",
    "\n",
    "for ip in non_200['ip'].to_list():\n",
    "    obj = IPWhois(ip)\n",
    "    results = obj.lookup_rdap(depth=1)\n",
    "    print(results['asn_description'])\n",
    "    "
   ]
  },
  {
   "cell_type": "markdown",
   "id": "1c055ec0",
   "metadata": {},
   "source": [
    "We won't dive any deeper than this at the moment as I think this demonstrates what you need to get started answering your relevant business questions with the Lightweight Data Stack."
   ]
  }
 ],
 "metadata": {
  "kernelspec": {
   "display_name": "Python 3 (ipykernel)",
   "language": "python",
   "name": "python3"
  },
  "language_info": {
   "codemirror_mode": {
    "name": "ipython",
    "version": 3
   },
   "file_extension": ".py",
   "mimetype": "text/x-python",
   "name": "python",
   "nbconvert_exporter": "python",
   "pygments_lexer": "ipython3",
   "version": "3.9.7"
  }
 },
 "nbformat": 4,
 "nbformat_minor": 5
}
